{
  "nbformat": 4,
  "nbformat_minor": 0,
  "metadata": {
    "colab": {
      "name": "Python_Tricks.ipynb",
      "provenance": [],
      "collapsed_sections": [],
      "authorship_tag": "ABX9TyMHOK3O4gAriqOtyfqvD7oC",
      "include_colab_link": true
    },
    "kernelspec": {
      "name": "python3",
      "display_name": "Python 3"
    },
    "language_info": {
      "name": "python"
    }
  },
  "cells": [
    {
      "cell_type": "markdown",
      "metadata": {
        "id": "view-in-github",
        "colab_type": "text"
      },
      "source": [
        "<a href=\"https://colab.research.google.com/github/AlexeyLa/Python_Helper_Collections/blob/main/Python_Tricks.ipynb\" target=\"_parent\"><img src=\"https://colab.research.google.com/assets/colab-badge.svg\" alt=\"Open In Colab\"/></a>"
      ]
    },
    {
      "cell_type": "code",
      "metadata": {
        "colab": {
          "base_uri": "https://localhost:8080/"
        },
        "id": "YDACxImOpifM",
        "outputId": "0e73de61-017f-4b2b-f325-8ae04252bbbf"
      },
      "source": [
        "import sys\n",
        "print(sys.version_info)\n",
        "print(sys.version)"
      ],
      "execution_count": null,
      "outputs": [
        {
          "output_type": "stream",
          "name": "stdout",
          "text": [
            "sys.version_info(major=3, minor=7, micro=12, releaselevel='final', serial=0)\n",
            "3.7.12 (default, Sep 10 2021, 00:21:48) \n",
            "[GCC 7.5.0]\n"
          ]
        }
      ]
    },
    {
      "cell_type": "markdown",
      "metadata": {
        "id": "NIl5L5gnvcU6"
      },
      "source": [
        "Bytes vs Str"
      ]
    },
    {
      "cell_type": "code",
      "metadata": {
        "colab": {
          "base_uri": "https://localhost:8080/"
        },
        "id": "0S3QW439tLDS",
        "outputId": "f9160151-5da0-497a-c54c-44916ea2f26a"
      },
      "source": [
        "a = b'\\xd0\\x91\\xd0\\xb0\\xd0\\xb9\\xd1\\x82\\xd1\\x8b'\n",
        "print(list(a))\n",
        "print(a)"
      ],
      "execution_count": null,
      "outputs": [
        {
          "output_type": "stream",
          "name": "stdout",
          "text": [
            "[208, 145, 208, 176, 208, 185, 209, 130, 209, 139]\n",
            "b'\\xd0\\x91\\xd0\\xb0\\xd0\\xb9\\xd1\\x82\\xd1\\x8b'\n"
          ]
        }
      ]
    },
    {
      "cell_type": "markdown",
      "metadata": {
        "id": "GacxB5NgvSIi"
      },
      "source": [
        ""
      ]
    },
    {
      "cell_type": "code",
      "metadata": {
        "colab": {
          "base_uri": "https://localhost:8080/"
        },
        "id": "TMN8FgO1vObr",
        "outputId": "e70aa3a4-bdcd-4380-adfb-5df98b5f6c67"
      },
      "source": [
        "str = \"beginnersbook\"\n",
        "\n",
        "# encoding 'utf-8'\n",
        "arr = bytes(str, 'utf-8')\n",
        "\n",
        "#encdoing 'utf-16'\n",
        "arr2 = bytes(str, 'utf-16')\n",
        "\n",
        "print(arr)\n",
        "print(arr[0])\n",
        "print(arr[1])\n",
        "print(arr2)\n",
        "print(arr2[0])\n",
        "print(arr2[1])"
      ],
      "execution_count": null,
      "outputs": [
        {
          "output_type": "stream",
          "name": "stdout",
          "text": [
            "b'beginnersbook'\n",
            "98\n",
            "101\n",
            "b'\\xff\\xfeb\\x00e\\x00g\\x00i\\x00n\\x00n\\x00e\\x00r\\x00s\\x00b\\x00o\\x00o\\x00k\\x00'\n",
            "255\n",
            "254\n"
          ]
        }
      ]
    },
    {
      "cell_type": "code",
      "metadata": {
        "colab": {
          "base_uri": "https://localhost:8080/"
        },
        "id": "7aCos8yazCM7",
        "outputId": "18f5b159-3136-44c4-c092-71ae850e452c"
      },
      "source": [
        "def моя_функция(a,b):\n",
        "  print(a + b)\n",
        "\n",
        "моя_функция(14,14)"
      ],
      "execution_count": null,
      "outputs": [
        {
          "output_type": "stream",
          "name": "stdout",
          "text": [
            "28\n"
          ]
        }
      ]
    },
    {
      "cell_type": "code",
      "metadata": {
        "id": "LzdzQisQ5Q_K",
        "colab": {
          "base_uri": "https://localhost:8080/"
        },
        "outputId": "ec46b983-aae6-4b93-9991-0b54e55e7c6a"
      },
      "source": [
        "dfadef unique(iterable, seen = set()):\n",
        "  acc = []\n",
        "  for i in iterable:\n",
        "    if i not in seen:\n",
        "      seen.add(i)\n",
        "      acc.append(i)\n",
        "  return acc\n",
        "\n",
        "print(unique([1,1,2,3,4]))\n",
        "print(unique([1,1,2,3,4]))"
      ],
      "execution_count": null,
      "outputs": [
        {
          "output_type": "stream",
          "name": "stdout",
          "text": [
            "[1, 2, 3, 4]\n",
            "[]\n"
          ]
        }
      ]
    },
    {
      "cell_type": "code",
      "metadata": {
        "colab": {
          "base_uri": "https://localhost:8080/"
        },
        "id": "Rny-CCJQ5cH1",
        "outputId": "4887c03e-ff99-41cf-d5cf-0fe6353a1e14"
      },
      "source": [
        "def unique(iterable, seen = None):\n",
        "  acc = []\n",
        "  seen = set(seen or [])\n",
        "  for i in iterable:\n",
        "    if i not in seen:\n",
        "      seen.add(i)\n",
        "      acc.append(i)\n",
        "  return acc\n",
        "\n",
        "print(unique([1,1,2,3,4]))\n",
        "print(unique([1,1,2,3,4]))"
      ],
      "execution_count": null,
      "outputs": [
        {
          "output_type": "stream",
          "name": "stdout",
          "text": [
            "[1, 2, 3, 4]\n",
            "[1, 2, 3, 4]\n"
          ]
        }
      ]
    },
    {
      "cell_type": "code",
      "metadata": {
        "colab": {
          "base_uri": "https://localhost:8080/"
        },
        "id": "YLU21i7I-A9d",
        "outputId": "a069203f-7f64-468a-a5c9-e736fa841c33"
      },
      "source": [
        "x,y,z = {1,2,3}\n",
        "print(x,y,z)"
      ],
      "execution_count": null,
      "outputs": [
        {
          "output_type": "stream",
          "name": "stdout",
          "text": [
            "1 2 3\n"
          ]
        }
      ]
    },
    {
      "cell_type": "code",
      "metadata": {
        "colab": {
          "base_uri": "https://localhost:8080/"
        },
        "id": "_4bhvuyAAzOV",
        "outputId": "c69cad3b-bf1a-4059-f669-4dbba371d260"
      },
      "source": [
        "x, (x, y) = 1, (2, 3)\n",
        "print(x)"
      ],
      "execution_count": null,
      "outputs": [
        {
          "output_type": "stream",
          "name": "stdout",
          "text": [
            "2\n"
          ]
        }
      ]
    },
    {
      "cell_type": "code",
      "metadata": {
        "colab": {
          "base_uri": "https://localhost:8080/"
        },
        "id": "60Xb26fMLDkt",
        "outputId": "c49e6c0f-b4d7-44f8-bae5-673051d5b73e"
      },
      "source": [
        "def test(*args):\n",
        "  for i in args:\n",
        "    print(i)\n",
        "  # for i in args:\n",
        "  # print(kwargs)\n",
        "  # for i,j in kwargs.items():\n",
        "  #   print(i)\n",
        "  \n",
        "args = 'a','b','c'\n",
        "kwargs = {'rt':15, 'fr':200}\n",
        "\n",
        "test(1,2,3,4,5)\n",
        "\n",
        "# for i,j in kwargs.items():\n",
        "#   print(i,j)\n",
        "\n",
        "# for i,j in kwargs.items():\n",
        "#   print(i,j)\n",
        "for i in args:\n",
        "  print(i)"
      ],
      "execution_count": null,
      "outputs": [
        {
          "output_type": "stream",
          "name": "stdout",
          "text": [
            "1\n",
            "2\n",
            "3\n",
            "4\n",
            "5\n",
            "a\n",
            "b\n",
            "c\n"
          ]
        }
      ]
    },
    {
      "cell_type": "code",
      "metadata": {
        "id": "F0Eb8BDySfKE",
        "colab": {
          "base_uri": "https://localhost:8080/"
        },
        "outputId": "c54c220c-59f3-4fc5-fc99-2fba813f5524"
      },
      "source": [
        "rx, *ux, lx = 1,2,3,4,5,6\n",
        "print(rx)\n",
        "print(ux)"
      ],
      "execution_count": null,
      "outputs": [
        {
          "output_type": "stream",
          "name": "stdout",
          "text": [
            "1\n",
            "[2, 3, 4, 5]\n"
          ]
        }
      ]
    },
    {
      "cell_type": "code",
      "metadata": {
        "colab": {
          "base_uri": "https://localhost:8080/"
        },
        "id": "7gG1THlDlDVd",
        "outputId": "66e66b6e-3325-43aa-bc29-7e7afd610778"
      },
      "source": [
        "a = 15,\n",
        "print(type(a))\n",
        "print(a)"
      ],
      "execution_count": null,
      "outputs": [
        {
          "output_type": "stream",
          "name": "stdout",
          "text": [
            "<class 'tuple'>\n",
            "(15,)\n"
          ]
        }
      ]
    },
    {
      "cell_type": "code",
      "metadata": {
        "id": "92Dt99X_rPEs",
        "colab": {
          "base_uri": "https://localhost:8080/"
        },
        "outputId": "649290bb-7ed7-4975-c7fb-610ec9934ca3"
      },
      "source": [
        "a = {1,2,3,4}\n",
        "b = {3,4,5,6}\n",
        "\n",
        "c = a | b\n",
        "c"
      ],
      "execution_count": null,
      "outputs": [
        {
          "output_type": "execute_result",
          "data": {
            "text/plain": [
              "{1, 2, 3, 4, 5, 6}"
            ]
          },
          "metadata": {},
          "execution_count": 1
        }
      ]
    },
    {
      "cell_type": "code",
      "metadata": {
        "colab": {
          "base_uri": "https://localhost:8080/"
        },
        "id": "MF46j6ZIZypH",
        "outputId": "e1cdad68-4101-4d4b-80cb-16e7e738d8c9"
      },
      "source": [
        "a - b"
      ],
      "execution_count": null,
      "outputs": [
        {
          "output_type": "execute_result",
          "data": {
            "text/plain": [
              "{1, 2}"
            ]
          },
          "metadata": {},
          "execution_count": 2
        }
      ]
    },
    {
      "cell_type": "code",
      "metadata": {
        "colab": {
          "base_uri": "https://localhost:8080/"
        },
        "id": "sm5MLxVRaQeM",
        "outputId": "a2f4c26b-8c3b-4ecc-9dfa-f5c9e26f5024"
      },
      "source": [
        "def test_fun2(val_dict):\n",
        "  for item, val in val_dict.items():\n",
        "    print(item, val)\n",
        "  \n",
        "test_fun2({'a':10,'b':15})"
      ],
      "execution_count": null,
      "outputs": [
        {
          "output_type": "stream",
          "name": "stdout",
          "text": [
            "a 10\n",
            "b 15\n"
          ]
        }
      ]
    },
    {
      "cell_type": "code",
      "metadata": {
        "colab": {
          "base_uri": "https://localhost:8080/"
        },
        "id": "fLr7Dg2oaSf-",
        "outputId": "20f079bb-3bf0-4bf6-cfb4-07d3ce526159"
      },
      "source": [
        "\n",
        "\n",
        "def test_fun(**kwargs):\n",
        "  for item, val in kwargs.items():\n",
        "    print(item, val)\n",
        "\n",
        "test_fun(a = 15, b = 20, c = 25)"
      ],
      "execution_count": null,
      "outputs": [
        {
          "output_type": "stream",
          "name": "stdout",
          "text": [
            "a 15\n",
            "b 20\n",
            "c 25\n"
          ]
        }
      ]
    },
    {
      "cell_type": "code",
      "metadata": {
        "id": "Tp80Zh1ya4Xj",
        "colab": {
          "base_uri": "https://localhost:8080/"
        },
        "outputId": "12038720-389e-48c5-99b6-7e9b392347f2"
      },
      "source": [
        "from collections import deque\n",
        "\n",
        "class MemDict(dict):\n",
        "  history = deque(maxlen = 10)\n",
        "\n",
        "  def set(self, key, value):\n",
        "    self.history.append(key)\n",
        "    self[key] = value\n",
        "\n",
        "  def get_history(self):\n",
        "    return self.history\n",
        "\n",
        "M1 = MemDict({'a':1})\n",
        "M1.set('b',15)\n",
        "M1.set('c',150)\n",
        "\n",
        "print(M1.get_history())\n",
        "\n",
        "print(MemDict.__class__)\n",
        "print(MemDict.__dict__)"
      ],
      "execution_count": null,
      "outputs": [
        {
          "output_type": "stream",
          "name": "stdout",
          "text": [
            "deque(['b', 'c'], maxlen=10)\n",
            "<class 'type'>\n",
            "{'__module__': '__main__', 'history': deque(['b', 'c'], maxlen=10), 'set': <function MemDict.set at 0x7f80ee5f07a0>, 'get_history': <function MemDict.get_history at 0x7f80ee5f00e0>, '__dict__': <attribute '__dict__' of 'MemDict' objects>, '__weakref__': <attribute '__weakref__' of 'MemDict' objects>, '__doc__': None}\n"
          ]
        }
      ]
    },
    {
      "cell_type": "code",
      "metadata": {
        "id": "lpvKVAcUDUp2",
        "colab": {
          "base_uri": "https://localhost:8080/"
        },
        "outputId": "4e744bcd-9bd4-402f-fcfa-f7449ecc7836"
      },
      "source": [
        "class MyClass:\n",
        "  def doSomething(self):\n",
        "    print('doing smth')\n",
        "  \n",
        "MyClass().doSomething()\n",
        "  \n",
        "MyClass().doSomething\n",
        "\n"
      ],
      "execution_count": null,
      "outputs": [
        {
          "output_type": "stream",
          "name": "stdout",
          "text": [
            "doing smth\n"
          ]
        },
        {
          "output_type": "execute_result",
          "data": {
            "text/plain": [
              "<bound method MyClass.doSomething of <__main__.MyClass object at 0x7f80ee657b90>>"
            ]
          },
          "metadata": {},
          "execution_count": 13
        }
      ]
    },
    {
      "cell_type": "code",
      "metadata": {
        "colab": {
          "base_uri": "https://localhost:8080/"
        },
        "id": "RcDfJSKcaTU9",
        "outputId": "585b2905-aa88-4de0-e686-8e85dcab4657"
      },
      "source": [
        "MyClass.doSomething"
      ],
      "execution_count": null,
      "outputs": [
        {
          "output_type": "execute_result",
          "data": {
            "text/plain": [
              "<function __main__.MyClass.doSomething>"
            ]
          },
          "metadata": {},
          "execution_count": 14
        }
      ]
    },
    {
      "cell_type": "code",
      "metadata": {
        "colab": {
          "base_uri": "https://localhost:8080/"
        },
        "id": "CpsKKmUrav_f",
        "outputId": "25fa8a63-e984-456c-cb68-8b31ef0e3061"
      },
      "source": [
        "instance = MyClass()\n",
        "MyClass.doSomething(instance)"
      ],
      "execution_count": null,
      "outputs": [
        {
          "output_type": "stream",
          "name": "stdout",
          "text": [
            "doing smth\n"
          ]
        }
      ]
    },
    {
      "cell_type": "code",
      "metadata": {
        "colab": {
          "base_uri": "https://localhost:8080/"
        },
        "id": "At2lWeOya3j8",
        "outputId": "6a7230b0-6339-4fc3-f3e7-880f1fffc7f4"
      },
      "source": [
        "class Test:\n",
        "  def method_one(self):\n",
        "    print(\"Called method_one\")\n",
        "\n",
        "  def method_two():\n",
        "    print(\"Called method_two\")\n",
        "\n",
        "a_test = Test()\n",
        "a_test.method_one()\n",
        "Test.method_two()"
      ],
      "execution_count": null,
      "outputs": [
        {
          "output_type": "stream",
          "name": "stdout",
          "text": [
            "Called method_one\n",
            "Called method_two\n"
          ]
        }
      ]
    },
    {
      "cell_type": "code",
      "metadata": {
        "colab": {
          "base_uri": "https://localhost:8080/"
        },
        "id": "Eb4zvtJnbURO",
        "outputId": "4d9d08a4-3b2a-407f-f616-527c2666aeb9"
      },
      "source": [
        "class Test2:\n",
        "\n",
        "  def __init__(self, value):\n",
        "    self.value = value\n",
        "\n",
        "  def ret_val(self):\n",
        "    return self.value\n",
        "\n",
        "  @property\n",
        "  def fuckit(self):\n",
        "    return self.value\n",
        "\n",
        "mt = Test2(120)\n",
        "print(mt.ret_val())\n",
        "print(mt.fuckit)"
      ],
      "execution_count": null,
      "outputs": [
        {
          "output_type": "stream",
          "name": "stdout",
          "text": [
            "120\n",
            "120\n"
          ]
        }
      ]
    },
    {
      "cell_type": "code",
      "metadata": {
        "id": "2Ij7q1lFi5R-",
        "colab": {
          "base_uri": "https://localhost:8080/",
          "height": 334
        },
        "outputId": "416447cc-32ba-47d0-9add-8ea90c2ca9aa"
      },
      "source": [
        "b = [1,2,3,4,5,6,7,8]\n",
        "a = iter(b)\n",
        "# print(list(a))\n",
        "for i in range(3):\n",
        "  rt = next(a)\n",
        "  print(rt)\n",
        "print(7 in a)\n",
        "\n",
        "print('check', next(a))\n",
        "print('-----')\n",
        "print(b)\n",
        "print(list(a))"
      ],
      "execution_count": null,
      "outputs": [
        {
          "output_type": "stream",
          "name": "stdout",
          "text": [
            "1\n",
            "2\n",
            "3\n",
            "True\n",
            "False\n"
          ]
        },
        {
          "output_type": "error",
          "ename": "StopIteration",
          "evalue": "ignored",
          "traceback": [
            "\u001b[0;31m---------------------------------------------------------------------------\u001b[0m",
            "\u001b[0;31mStopIteration\u001b[0m                             Traceback (most recent call last)",
            "\u001b[0;32m<ipython-input-17-7110096b448d>\u001b[0m in \u001b[0;36m<module>\u001b[0;34m()\u001b[0m\n\u001b[1;32m      8\u001b[0m \u001b[0mprint\u001b[0m\u001b[0;34m(\u001b[0m\u001b[0;36m1\u001b[0m \u001b[0;32min\u001b[0m \u001b[0ma\u001b[0m\u001b[0;34m)\u001b[0m\u001b[0;34m\u001b[0m\u001b[0;34m\u001b[0m\u001b[0m\n\u001b[1;32m      9\u001b[0m \u001b[0;34m\u001b[0m\u001b[0m\n\u001b[0;32m---> 10\u001b[0;31m \u001b[0mprint\u001b[0m\u001b[0;34m(\u001b[0m\u001b[0;34m'check'\u001b[0m\u001b[0;34m,\u001b[0m \u001b[0mnext\u001b[0m\u001b[0;34m(\u001b[0m\u001b[0ma\u001b[0m\u001b[0;34m)\u001b[0m\u001b[0;34m)\u001b[0m\u001b[0;34m\u001b[0m\u001b[0;34m\u001b[0m\u001b[0m\n\u001b[0m\u001b[1;32m     11\u001b[0m \u001b[0mprint\u001b[0m\u001b[0;34m(\u001b[0m\u001b[0;34m'-----'\u001b[0m\u001b[0;34m)\u001b[0m\u001b[0;34m\u001b[0m\u001b[0;34m\u001b[0m\u001b[0m\n\u001b[1;32m     12\u001b[0m \u001b[0mprint\u001b[0m\u001b[0;34m(\u001b[0m\u001b[0mb\u001b[0m\u001b[0;34m)\u001b[0m\u001b[0;34m\u001b[0m\u001b[0;34m\u001b[0m\u001b[0m\n",
            "\u001b[0;31mStopIteration\u001b[0m: "
          ]
        }
      ]
    },
    {
      "cell_type": "code",
      "metadata": {
        "colab": {
          "base_uri": "https://localhost:8080/",
          "height": 225
        },
        "id": "QgPKw9SFUyTs",
        "outputId": "d5bcb320-b320-4526-ac85-1692a8aecca9"
      },
      "source": [
        "a = iter([1,2,3,4,5,6,7])\n",
        "print(7 in a)\n",
        "next(a)"
      ],
      "execution_count": null,
      "outputs": [
        {
          "output_type": "stream",
          "name": "stdout",
          "text": [
            "True\n"
          ]
        },
        {
          "output_type": "error",
          "ename": "StopIteration",
          "evalue": "ignored",
          "traceback": [
            "\u001b[0;31m---------------------------------------------------------------------------\u001b[0m",
            "\u001b[0;31mStopIteration\u001b[0m                             Traceback (most recent call last)",
            "\u001b[0;32m<ipython-input-19-b2ddba523949>\u001b[0m in \u001b[0;36m<module>\u001b[0;34m()\u001b[0m\n\u001b[1;32m      1\u001b[0m \u001b[0ma\u001b[0m \u001b[0;34m=\u001b[0m \u001b[0miter\u001b[0m\u001b[0;34m(\u001b[0m\u001b[0;34m[\u001b[0m\u001b[0;36m1\u001b[0m\u001b[0;34m,\u001b[0m\u001b[0;36m2\u001b[0m\u001b[0;34m,\u001b[0m\u001b[0;36m3\u001b[0m\u001b[0;34m,\u001b[0m\u001b[0;36m4\u001b[0m\u001b[0;34m,\u001b[0m\u001b[0;36m5\u001b[0m\u001b[0;34m,\u001b[0m\u001b[0;36m6\u001b[0m\u001b[0;34m,\u001b[0m\u001b[0;36m7\u001b[0m\u001b[0;34m]\u001b[0m\u001b[0;34m)\u001b[0m\u001b[0;34m\u001b[0m\u001b[0;34m\u001b[0m\u001b[0m\n\u001b[1;32m      2\u001b[0m \u001b[0mprint\u001b[0m\u001b[0;34m(\u001b[0m\u001b[0;36m7\u001b[0m \u001b[0;32min\u001b[0m \u001b[0ma\u001b[0m\u001b[0;34m)\u001b[0m\u001b[0;34m\u001b[0m\u001b[0;34m\u001b[0m\u001b[0m\n\u001b[0;32m----> 3\u001b[0;31m \u001b[0mnext\u001b[0m\u001b[0;34m(\u001b[0m\u001b[0ma\u001b[0m\u001b[0;34m)\u001b[0m\u001b[0;34m\u001b[0m\u001b[0;34m\u001b[0m\u001b[0m\n\u001b[0m",
            "\u001b[0;31mStopIteration\u001b[0m: "
          ]
        }
      ]
    },
    {
      "cell_type": "code",
      "metadata": {
        "colab": {
          "base_uri": "https://localhost:8080/"
        },
        "id": "Zjjdpi1nU3n6",
        "outputId": "3d956e1a-d45e-4128-ebaa-e9c88967b8ff"
      },
      "source": [
        "def g(x):\n",
        "  print('Start...')\n",
        "  print(f'current x is {x}')\n",
        "  yield x\n",
        "  x+=15\n",
        "  print(f'current x is {x}')\n",
        "  yield x\n",
        "  print('Done')\n",
        "  yield\n",
        "\n",
        "my_gen = g(15)\n",
        "\n",
        "next(my_gen)\n",
        "next(my_gen)\n",
        "next(my_gen)"
      ],
      "execution_count": null,
      "outputs": [
        {
          "output_type": "stream",
          "name": "stdout",
          "text": [
            "Start...\n",
            "current x is 15\n",
            "current x is 30\n",
            "Done\n"
          ]
        }
      ]
    },
    {
      "cell_type": "code",
      "metadata": {
        "colab": {
          "base_uri": "https://localhost:8080/",
          "height": 625
        },
        "id": "yzwvoKjsZqgk",
        "outputId": "1b56967e-e0c6-4dfe-80c5-8708368c51f2"
      },
      "source": [
        "def g():\n",
        "  for i in range(15):\n",
        "    print(i)\n",
        "    yield i\n",
        "\n",
        "mygen = g()\n",
        "10 in mygen\n",
        "\n",
        "\n",
        "print('chain example......')\n",
        "\n",
        "def chain(*iterables):\n",
        "  for iterable in iterables:\n",
        "    for item in iterable:\n",
        "      yield item\n",
        "\n",
        "mc = chain(range(5), [56,56,56,10,10,10000])\n",
        "for i in range(12):\n",
        "  print(next(mc))"
      ],
      "execution_count": null,
      "outputs": [
        {
          "output_type": "stream",
          "name": "stdout",
          "text": [
            "0\n",
            "1\n",
            "2\n",
            "3\n",
            "4\n",
            "5\n",
            "6\n",
            "7\n",
            "8\n",
            "9\n",
            "10\n",
            "chain example......\n",
            "0\n",
            "1\n",
            "2\n",
            "3\n",
            "4\n",
            "56\n",
            "56\n",
            "56\n",
            "10\n",
            "10\n",
            "10000\n"
          ]
        },
        {
          "output_type": "error",
          "ename": "StopIteration",
          "evalue": "ignored",
          "traceback": [
            "\u001b[0;31m---------------------------------------------------------------------------\u001b[0m",
            "\u001b[0;31mStopIteration\u001b[0m                             Traceback (most recent call last)",
            "\u001b[0;32m<ipython-input-44-12d39397ab7a>\u001b[0m in \u001b[0;36m<module>\u001b[0;34m()\u001b[0m\n\u001b[1;32m     17\u001b[0m \u001b[0mmc\u001b[0m \u001b[0;34m=\u001b[0m \u001b[0mchain\u001b[0m\u001b[0;34m(\u001b[0m\u001b[0mrange\u001b[0m\u001b[0;34m(\u001b[0m\u001b[0;36m5\u001b[0m\u001b[0;34m)\u001b[0m\u001b[0;34m,\u001b[0m \u001b[0;34m[\u001b[0m\u001b[0;36m56\u001b[0m\u001b[0;34m,\u001b[0m\u001b[0;36m56\u001b[0m\u001b[0;34m,\u001b[0m\u001b[0;36m56\u001b[0m\u001b[0;34m,\u001b[0m\u001b[0;36m10\u001b[0m\u001b[0;34m,\u001b[0m\u001b[0;36m10\u001b[0m\u001b[0;34m,\u001b[0m\u001b[0;36m10000\u001b[0m\u001b[0;34m]\u001b[0m\u001b[0;34m)\u001b[0m\u001b[0;34m\u001b[0m\u001b[0;34m\u001b[0m\u001b[0m\n\u001b[1;32m     18\u001b[0m \u001b[0;32mfor\u001b[0m \u001b[0mi\u001b[0m \u001b[0;32min\u001b[0m \u001b[0mrange\u001b[0m\u001b[0;34m(\u001b[0m\u001b[0;36m12\u001b[0m\u001b[0;34m)\u001b[0m\u001b[0;34m:\u001b[0m\u001b[0;34m\u001b[0m\u001b[0;34m\u001b[0m\u001b[0m\n\u001b[0;32m---> 19\u001b[0;31m   \u001b[0mprint\u001b[0m\u001b[0;34m(\u001b[0m\u001b[0mnext\u001b[0m\u001b[0;34m(\u001b[0m\u001b[0mmc\u001b[0m\u001b[0;34m)\u001b[0m\u001b[0;34m)\u001b[0m\u001b[0;34m\u001b[0m\u001b[0;34m\u001b[0m\u001b[0m\n\u001b[0m",
            "\u001b[0;31mStopIteration\u001b[0m: "
          ]
        }
      ]
    },
    {
      "cell_type": "code",
      "metadata": {
        "colab": {
          "base_uri": "https://localhost:8080/"
        },
        "id": "wB_0kUDJbyry",
        "outputId": "4b31279d-a1c6-4c0d-e5fd-0bdd8bfb339b"
      },
      "source": [
        "from itertools import islice\n",
        "\n",
        "a = range(100)\n",
        "b = a[0:4]\n",
        "print(list(b))\n",
        "c = islice(a,4)\n",
        "print(list(c))"
      ],
      "execution_count": null,
      "outputs": [
        {
          "output_type": "stream",
          "name": "stdout",
          "text": [
            "[0, 1, 2, 3]\n",
            "[0, 1, 2, 3]\n"
          ]
        }
      ]
    },
    {
      "cell_type": "code",
      "metadata": {
        "colab": {
          "base_uri": "https://localhost:8080/"
        },
        "id": "CoZjel05RHBN",
        "outputId": "a015fad6-352c-4d99-cdc6-7c0497fdb2c8"
      },
      "source": [
        "print(id(print))\n",
        "печать = print\n",
        "печать(id(печать))"
      ],
      "execution_count": null,
      "outputs": [
        {
          "output_type": "stream",
          "name": "stdout",
          "text": [
            "139713336431872\n",
            "139713336431872\n"
          ]
        }
      ]
    },
    {
      "cell_type": "code",
      "metadata": {
        "id": "FJk8tViK4G0a",
        "colab": {
          "base_uri": "https://localhost:8080/"
        },
        "outputId": "75df4947-7907-465c-e430-ffee34fd9d2a"
      },
      "source": [
        "def g(n):\n",
        "  while True:\n",
        "    yield n ** 2\n",
        "    n+=1\n",
        "\n",
        "print(next(g(5)))\n",
        "print(next(g(6)))\n",
        "print(next(g(7)))\n",
        "\n",
        "def g2(n):\n",
        "  yield n ** 2\n",
        "  n+=1\n",
        "\n",
        "print(next(g2(5)))\n",
        "print(next(g2(6)))\n",
        "print(next(g2(7)))"
      ],
      "execution_count": null,
      "outputs": [
        {
          "output_type": "stream",
          "name": "stdout",
          "text": [
            "25\n",
            "36\n",
            "49\n",
            "25\n",
            "36\n",
            "49\n"
          ]
        }
      ]
    },
    {
      "cell_type": "code",
      "metadata": {
        "colab": {
          "base_uri": "https://localhost:8080/"
        },
        "id": "sRiyHSjqxTf5",
        "outputId": "f1ca803f-bca3-422e-8372-89b30bb0c233"
      },
      "source": [
        "from itertools import cycle\n",
        "\n",
        "pat = cycle('abcbdef')\n",
        "\n",
        "print(next(pat))\n",
        "print(next(pat))\n",
        "print(next(pat))\n",
        "print(next(pat))\n",
        "print(next(pat))\n",
        "print(next(pat))\n",
        "print(next(pat))\n",
        "print(next(pat))\n",
        "print(next(pat))"
      ],
      "execution_count": null,
      "outputs": [
        {
          "output_type": "stream",
          "name": "stdout",
          "text": [
            "a\n",
            "b\n",
            "c\n",
            "b\n",
            "d\n",
            "e\n",
            "f\n",
            "a\n",
            "b\n"
          ]
        }
      ]
    },
    {
      "cell_type": "code",
      "metadata": {
        "id": "lP1t4-ea6_xy"
      },
      "source": [
        ""
      ],
      "execution_count": null,
      "outputs": []
    },
    {
      "cell_type": "markdown",
      "metadata": {
        "id": "aNo3DWeM79yp"
      },
      "source": [
        "## Formatting"
      ]
    },
    {
      "cell_type": "code",
      "metadata": {
        "colab": {
          "base_uri": "https://localhost:8080/"
        },
        "id": "9ydb1TEU7_lH",
        "outputId": "d051ce2b-21bb-4f7b-9abe-b95fb3f5defd"
      },
      "source": [
        "s = 1349334129410\n",
        "print(f'Formatted output: {s}')\n",
        "print(f'Formatted output: {s: ,}')\n",
        "s2 = f'Formatted output: {s: ,}'.replace(',',' ')\n",
        "print(s2)"
      ],
      "execution_count": null,
      "outputs": [
        {
          "output_type": "stream",
          "name": "stdout",
          "text": [
            "Formatted output: 1349334129410\n",
            "Formatted output:  1,349,334,129,410\n",
            "Formatted output:  1 349 334 129 410\n"
          ]
        }
      ]
    },
    {
      "cell_type": "code",
      "metadata": {
        "colab": {
          "base_uri": "https://localhost:8080/"
        },
        "id": "zv4BjCrx8Eos",
        "outputId": "ffd53808-bee1-45a2-9397-99994093dca7"
      },
      "source": [
        "mstr = 'laejvose'\n",
        "print(mstr*len(mstr))"
      ],
      "execution_count": null,
      "outputs": [
        {
          "output_type": "stream",
          "name": "stdout",
          "text": [
            "laejvoselaejvoselaejvoselaejvoselaejvoselaejvoselaejvoselaejvose\n"
          ]
        }
      ]
    },
    {
      "cell_type": "code",
      "metadata": {
        "id": "fpBaTtKgHxLz",
        "colab": {
          "base_uri": "https://localhost:8080/",
          "height": 207
        },
        "outputId": "b855f2dc-1a0e-48cc-b56a-0bef10d21c82"
      },
      "source": [
        "a = {(1,2,3):'alexey',(20,30):\"ivan\"}\n",
        "\n",
        "print(a)"
      ],
      "execution_count": null,
      "outputs": [
        {
          "output_type": "error",
          "ename": "TypeError",
          "evalue": "ignored",
          "traceback": [
            "\u001b[0;31m---------------------------------------------------------------------------\u001b[0m",
            "\u001b[0;31mTypeError\u001b[0m                                 Traceback (most recent call last)",
            "\u001b[0;32m<ipython-input-2-c698e580466c>\u001b[0m in \u001b[0;36m<module>\u001b[0;34m()\u001b[0m\n\u001b[1;32m      1\u001b[0m \u001b[0ma\u001b[0m \u001b[0;34m=\u001b[0m \u001b[0;34m{\u001b[0m\u001b[0;34m(\u001b[0m\u001b[0;36m1\u001b[0m\u001b[0;34m,\u001b[0m\u001b[0;36m2\u001b[0m\u001b[0;34m,\u001b[0m\u001b[0;36m3\u001b[0m\u001b[0;34m)\u001b[0m\u001b[0;34m:\u001b[0m\u001b[0;34m'alexey'\u001b[0m\u001b[0;34m,\u001b[0m\u001b[0;34m(\u001b[0m\u001b[0;36m20\u001b[0m\u001b[0;34m,\u001b[0m\u001b[0;36m30\u001b[0m\u001b[0;34m)\u001b[0m\u001b[0;34m:\u001b[0m\u001b[0;34m\"ivan\"\u001b[0m\u001b[0;34m}\u001b[0m\u001b[0;34m\u001b[0m\u001b[0;34m\u001b[0m\u001b[0m\n\u001b[0;32m----> 2\u001b[0;31m \u001b[0mb\u001b[0m \u001b[0;34m=\u001b[0m \u001b[0;34m{\u001b[0m\u001b[0;34m{\u001b[0m\u001b[0;36m1\u001b[0m\u001b[0;34m,\u001b[0m\u001b[0;36m2\u001b[0m\u001b[0;34m,\u001b[0m\u001b[0;36m3\u001b[0m\u001b[0;34m}\u001b[0m\u001b[0;34m:\u001b[0m\u001b[0;34m'alexey'\u001b[0m\u001b[0;34m,\u001b[0m\u001b[0;34m{\u001b[0m\u001b[0;36m20\u001b[0m\u001b[0;34m,\u001b[0m\u001b[0;36m30\u001b[0m\u001b[0;34m}\u001b[0m\u001b[0;34m:\u001b[0m\u001b[0;34m\"ivan\"\u001b[0m\u001b[0;34m}\u001b[0m\u001b[0;34m\u001b[0m\u001b[0;34m\u001b[0m\u001b[0m\n\u001b[0m\u001b[1;32m      3\u001b[0m \u001b[0mprint\u001b[0m\u001b[0;34m(\u001b[0m\u001b[0ma\u001b[0m\u001b[0;34m)\u001b[0m\u001b[0;34m\u001b[0m\u001b[0;34m\u001b[0m\u001b[0m\n",
            "\u001b[0;31mTypeError\u001b[0m: unhashable type: 'set'"
          ]
        }
      ]
    },
    {
      "cell_type": "code",
      "metadata": {
        "id": "buVRgRf1_K7q",
        "colab": {
          "base_uri": "https://localhost:8080/"
        },
        "outputId": "1c84a56d-c3e8-4241-e305-1f5dd2c530d3"
      },
      "source": [
        "x = 1\n",
        "print(id(x))\n",
        "y = 2\n",
        "l = [x, y]\n",
        "print(id(l[0]))\n",
        "x+=5\n",
        "print(id(x))\n",
        "\n",
        "a = [1]\n",
        "b = [2]\n",
        "s = [a,b]\n",
        "print(s)\n",
        "a.append(5)\n",
        "print(s)"
      ],
      "execution_count": null,
      "outputs": [
        {
          "output_type": "stream",
          "name": "stdout",
          "text": [
            "94635884128768\n",
            "94635884128768\n",
            "94635884128928\n",
            "[[1], [2]]\n",
            "[[1, 5], [2]]\n"
          ]
        }
      ]
    },
    {
      "cell_type": "code",
      "metadata": {
        "id": "M5gXyZTY5roi",
        "colab": {
          "base_uri": "https://localhost:8080/"
        },
        "outputId": "a3470cce-2512-4c18-85a3-31af41c6f21f"
      },
      "source": [
        "a = {'a1':15, 'b1':100}\n",
        "print(a['a1'])"
      ],
      "execution_count": null,
      "outputs": [
        {
          "output_type": "stream",
          "name": "stdout",
          "text": [
            "15\n"
          ]
        }
      ]
    },
    {
      "cell_type": "code",
      "metadata": {
        "id": "4wDC2H4fwY1f",
        "colab": {
          "base_uri": "https://localhost:8080/"
        },
        "outputId": "fe18e22e-9029-4b07-b4ee-8e66c8e610b4"
      },
      "source": [
        "data_value = {'a':10,'b':20,'c':30}\n",
        "print(data_value['a'])"
      ],
      "execution_count": null,
      "outputs": [
        {
          "output_type": "stream",
          "name": "stdout",
          "text": [
            "10\n"
          ]
        }
      ]
    },
    {
      "cell_type": "code",
      "metadata": {
        "colab": {
          "base_uri": "https://localhost:8080/"
        },
        "id": "ZIzrYAETDnFT",
        "outputId": "1d39d671-3282-4eff-9077-77e146119a44"
      },
      "source": [
        "data_values = {'title':'p1','patent_number':'US2121','applicant':'Rockley','fil_date':'2020:10:13','field_of_inv':'spectroscopy','abstract':'fsdafasdf dsfads dafdsf'}\n",
        "for i in data_values:\n",
        "  print(data_values[i])"
      ],
      "execution_count": null,
      "outputs": [
        {
          "output_type": "stream",
          "name": "stdout",
          "text": [
            "p1\n",
            "US2121\n",
            "Rockley\n",
            "2020:10:13\n",
            "spectroscopy\n",
            "fsdafasdf dsfads dafdsf\n"
          ]
        }
      ]
    },
    {
      "cell_type": "code",
      "metadata": {
        "id": "EQ7L4QxHE-vf",
        "colab": {
          "base_uri": "https://localhost:8080/"
        },
        "outputId": "09142052-88dc-43a1-bbe7-f66f3e50c219"
      },
      "source": [
        "import re\n",
        "ret = 'Interferometric spectrometry'\n",
        "a = re.search(r'\\b(View)\\b', ret)\n",
        "try:\n",
        "  res = ret[0:a.start()]\n",
        "except AttributeError:\n",
        "  res = ret[0:]\n",
        "print(res)"
      ],
      "execution_count": null,
      "outputs": [
        {
          "output_type": "stream",
          "name": "stdout",
          "text": [
            "Interferometric spectrometry\n"
          ]
        }
      ]
    },
    {
      "cell_type": "code",
      "metadata": {
        "id": "1q0BMjeZm2Te"
      },
      "source": [
        ""
      ],
      "execution_count": null,
      "outputs": []
    }
  ]
}