{
  "nbformat": 4,
  "nbformat_minor": 0,
  "metadata": {
    "colab": {
      "name": "String_Manipulation.ipynb",
      "provenance": [],
      "collapsed_sections": [],
      "toc_visible": true,
      "authorship_tag": "ABX9TyOjU/zoT2Ect7fev9cGLyqv",
      "include_colab_link": true
    },
    "kernelspec": {
      "name": "python3",
      "display_name": "Python 3"
    },
    "language_info": {
      "name": "python"
    }
  },
  "cells": [
    {
      "cell_type": "markdown",
      "metadata": {
        "id": "view-in-github",
        "colab_type": "text"
      },
      "source": [
        "<a href=\"https://colab.research.google.com/github/AlexeyLa/Python_Helper_Collections/blob/main/String_Manipulation.ipynb\" target=\"_parent\"><img src=\"https://colab.research.google.com/assets/colab-badge.svg\" alt=\"Open In Colab\"/></a>"
      ]
    },
    {
      "cell_type": "markdown",
      "metadata": {
        "id": "O6zGBJ3hiAJ6"
      },
      "source": [
        "# String Concatenation"
      ]
    },
    {
      "cell_type": "code",
      "metadata": {
        "colab": {
          "base_uri": "https://localhost:8080/"
        },
        "id": "8vaMLCkxo8LV",
        "outputId": "e09e79af-0862-4cbd-8d0c-f1eab8f697b5"
      },
      "source": [
        "# String concatenation\n",
        "\n",
        "s1 = 'Hello'\n",
        "s2 = ' '\n",
        "s3 = 'World'\n",
        "strings_list = [s1,s2, s3]\n",
        "\n",
        "print(s1 + s2 + s3)\n",
        "print(''.join(strings_list))\n",
        "print(\"%s%s%s\" % (s1, s2, s3))\n",
        "print(\"{in1}{in2}{in3}\".format(in1=s1, in2=s2, in3=s3))\n",
        "print(f'{s1}{s2}{s3}')"
      ],
      "execution_count": 5,
      "outputs": [
        {
          "output_type": "stream",
          "name": "stdout",
          "text": [
            "Hello World\n",
            "Hello World\n",
            "Hello World\n",
            "Hello World\n",
            "Hello World\n"
          ]
        }
      ]
    },
    {
      "cell_type": "markdown",
      "metadata": {
        "id": "W17wcl26iG-Q"
      },
      "source": [
        "# String replace"
      ]
    },
    {
      "cell_type": "code",
      "metadata": {
        "colab": {
          "base_uri": "https://localhost:8080/"
        },
        "id": "z1aKi9J3pSDp",
        "outputId": "df4e49b9-24ff-4918-cfec-2d380586d93c"
      },
      "source": [
        "# String replace\n",
        "\n",
        "s1 = 'Hello'\n",
        "s2 = ' '\n",
        "s3 = 'World'\n",
        "print(s1.replace('He','She'))"
      ],
      "execution_count": 6,
      "outputs": [
        {
          "output_type": "stream",
          "name": "stdout",
          "text": [
            "Shello\n"
          ]
        }
      ]
    },
    {
      "cell_type": "code",
      "metadata": {
        "colab": {
          "base_uri": "https://localhost:8080/"
        },
        "id": "O8KOZvWK8Ull",
        "outputId": "4bd0a0d5-6349-4687-9515-9d4fa452f2c3"
      },
      "source": [
        "# Word count\n",
        "\n",
        "s1 = 'Hello World Hello Hello My World'\n",
        "print(s1.count('Hello'))"
      ],
      "execution_count": 9,
      "outputs": [
        {
          "output_type": "stream",
          "name": "stdout",
          "text": [
            "3\n"
          ]
        }
      ]
    },
    {
      "cell_type": "markdown",
      "metadata": {
        "id": "aLHfU-dpiNgv"
      },
      "source": [
        "# Splitting a string"
      ]
    },
    {
      "cell_type": "code",
      "metadata": {
        "colab": {
          "base_uri": "https://localhost:8080/"
        },
        "id": "9U2p9L9R8eqh",
        "outputId": "affb57db-4c83-45f3-ca9d-18b452eca7e5"
      },
      "source": [
        "# Splitting a string\n",
        "\n",
        "my_phrase = \"let's go to the beach\"\n",
        "my_words = my_phrase.split(\" \")\n",
        "# my_words = my_phrase.split() # the same when the one whitespace delimeter is used\n",
        "\n",
        "for word in my_words:\n",
        "    print(word)"
      ],
      "execution_count": 11,
      "outputs": [
        {
          "output_type": "stream",
          "name": "stdout",
          "text": [
            "let's\n",
            "go\n",
            "to\n",
            "the\n",
            "beach\n"
          ]
        }
      ]
    },
    {
      "cell_type": "code",
      "metadata": {
        "colab": {
          "base_uri": "https://localhost:8080/"
        },
        "id": "lnADAbE7ijhg",
        "outputId": "466c8739-16a4-4412-c7f6-c3c35bee8a08"
      },
      "source": [
        "# Splitting a string with a definite word\n",
        "\n",
        "my_text = 'asdfdfads and a View asd asd '\n",
        "\n",
        "a = re.search(r'\\b(View)\\b', my_text)\n",
        "res1 = my_text[0:a.start()]\n",
        "res2 = my_text[a.end():]\n",
        "print(res1)\n",
        "print(res2)"
      ],
      "execution_count": 61,
      "outputs": [
        {
          "output_type": "stream",
          "name": "stdout",
          "text": [
            "asdfdfads and a \n",
            " asd asd \n"
          ]
        }
      ]
    },
    {
      "cell_type": "markdown",
      "metadata": {
        "id": "3nO2_R3IjIQR"
      },
      "source": [
        "# Removing whitespaces"
      ]
    },
    {
      "cell_type": "code",
      "metadata": {
        "colab": {
          "base_uri": "https://localhost:8080/"
        },
        "id": "8JNXGGv98urw",
        "outputId": "d8c15b1d-59b3-4082-8c4e-2ecc0b475c4c"
      },
      "source": [
        "# Removing all whitespaces\n",
        "import re\n",
        "\n",
        "phrase = ' Do   or do    not   there    is  no try   '\n",
        "phrase_no_space = re.sub(r'\\s+', '', phrase)\n",
        "\n",
        "# Notice that the \\s represents not only space ' ', but also form feed \\f, line feed \\n, carriage return \\r, tab \\t, \n",
        "# and vertical tab \\v.\n",
        "# In summary, \\s = [ \\f\\n\\r\\t\\v].\n",
        "#  The + symbol is called a quantifier and is read as 'one or more'. \n",
        "#  This means that it will consider, in this case, one or more white spaces since it is positioned right after the \\s.\n",
        "\n",
        "print(phrase)\n",
        "print(phrase_no_space)\n"
      ],
      "execution_count": 12,
      "outputs": [
        {
          "output_type": "stream",
          "name": "stdout",
          "text": [
            " Do   or do    not   there    is  no try   \n",
            "Doordonotthereisnotry\n"
          ]
        }
      ]
    },
    {
      "cell_type": "markdown",
      "metadata": {
        "id": "r2KawtB0jPYT"
      },
      "source": [
        "# Multiline Expression"
      ]
    },
    {
      "cell_type": "code",
      "metadata": {
        "colab": {
          "base_uri": "https://localhost:8080/"
        },
        "id": "h9e6tBnQ9gwR",
        "outputId": "255ca162-6809-4928-85f6-9359455e09ac"
      },
      "source": [
        "# Mutiline string expressions\n",
        "long_text = '''This is a multiline,\n",
        "a long string with lots of text,\n",
        "I'm wrapping it in triple quotes to make it work.'''\n",
        "print(long_text)\n",
        "\n",
        "print('-----------')\n",
        "long_text = (\"This is a multiline, \"\n",
        "\"a long string with lots of text \"\n",
        "\"I'm wrapping it in brackets to make it work.\")\n",
        "print(long_text)\n",
        "\n",
        "print('------------')\n",
        "long_text = (\"This is a multiline, \\n\\n\"\n",
        "\"a long string with lots of text \\n\\n\"\n",
        "\"I'm wrapping it in brackets to make it work.\")\n",
        "print(long_text)\n",
        "\n",
        "print('------------')\n",
        "long_text = \"This is a multiline, \\n\\n\" \\\n",
        "\"a long string with lots of text \\n\\n\" \\\n",
        "\"I'm using backlashes to make it work.\"\n",
        "print(long_text)\n"
      ],
      "execution_count": 17,
      "outputs": [
        {
          "output_type": "stream",
          "name": "stdout",
          "text": [
            "This is a multiline,\n",
            "a long string with lots of text,\n",
            "I'm wrapping it in triple quotes to make it work.\n",
            "-----------\n",
            "This is a multiline, a long string with lots of text I'm wrapping it in brackets to make it work.\n",
            "------------\n",
            "This is a multiline, \n",
            "\n",
            "a long string with lots of text \n",
            "\n",
            "I'm wrapping it in brackets to make it work.\n",
            "------------\n",
            "This is a multiline, \n",
            "\n",
            "a long string with lots of text \n",
            "\n",
            "I'm using backlashes to make it work.\n"
          ]
        }
      ]
    },
    {
      "cell_type": "markdown",
      "metadata": {
        "id": "9zoN-ZvWjaMw"
      },
      "source": [
        "# Removing characters with strip()"
      ]
    },
    {
      "cell_type": "code",
      "metadata": {
        "colab": {
          "base_uri": "https://localhost:8080/"
        },
        "id": "1wOCFAXECUFT",
        "outputId": "fbf121a1-1f6f-4460-fb89-8910ca641f07"
      },
      "source": [
        "# Removing characters with lstrip - a similar behaviour with rstrip / strip\n",
        "\n",
        "regular_text = \"   This is a regular text.\"\n",
        "no_space_begin_text = regular_text.lstrip()\n",
        "\n",
        "print(regular_text)\n",
        "print('')\n",
        "print(no_space_begin_text)\n",
        "\n",
        "print('-----------')\n",
        "regular_text = \"$@G#This is a regular text.\"\n",
        "clean_begin_text = regular_text.lstrip(\"#$@G\")\n",
        "\n",
        "print(regular_text)\n",
        "print('')\n",
        "print(clean_begin_text)\n",
        "\n",
        "print('-----------')\n",
        "regular_text = \"321This is a regular text.1169\"\n",
        "clean_begin_text = regular_text.strip(\"123456789\")\n",
        "print(regular_text)\n",
        "print(clean_begin_text)"
      ],
      "execution_count": 28,
      "outputs": [
        {
          "output_type": "stream",
          "name": "stdout",
          "text": [
            "   This is a regular text.\n",
            "\n",
            "This is a regular text.\n",
            "-----------\n",
            "$@G#This is a regular text.\n",
            "\n",
            "This is a regular text.\n",
            "-----------\n",
            "321This is a regular text.1169\n",
            "This is a regular text.\n"
          ]
        }
      ]
    },
    {
      "cell_type": "code",
      "metadata": {
        "colab": {
          "base_uri": "https://localhost:8080/"
        },
        "id": "nSZyL7HwE_yD",
        "outputId": "2dc29f21-b755-49ac-fe59-1cb96f0d8db2"
      },
      "source": [
        "# lower/uppercase\n",
        "\n",
        "mystring = 'Hello world!'\n",
        "print(mystring.lower())\n",
        "print(mystring.upper())\n",
        "\n",
        "# Title text\n",
        "\n",
        "regular_text = \"This is a regular text.\"\n",
        "title_case_text = regular_text.title()\n",
        "swap_case_text = regular_text.swapcase()\n",
        "\n",
        "print(regular_text)\n",
        "print(title_case_text)\n",
        "print(swap_case_text)"
      ],
      "execution_count": 32,
      "outputs": [
        {
          "output_type": "stream",
          "name": "stdout",
          "text": [
            "hello world!\n",
            "HELLO WORLD!\n",
            "This is a regular text.\n",
            "This Is A Regular Text.\n",
            "tHIS IS A REGULAR TEXT.\n"
          ]
        }
      ]
    },
    {
      "cell_type": "code",
      "metadata": {
        "colab": {
          "base_uri": "https://localhost:8080/"
        },
        "id": "QKmnGFi_F7JN",
        "outputId": "412bad00-5711-4dc0-bcec-388aa743c141"
      },
      "source": [
        "# right justify text - rjust / ljust\n",
        "\n",
        "word = 'beach'\n",
        "number_spaces = 32\n",
        "char = '#'\n",
        "number_chars = 32\n",
        "\n",
        "word_justified = word.rjust(number_spaces)\n",
        "word_justified_char = word.ljust(number_chars, char)\n",
        "\n",
        "print(word)\n",
        "print(word_justified)\n",
        "print(word_justified)\n",
        "print(word_justified_char)"
      ],
      "execution_count": 35,
      "outputs": [
        {
          "output_type": "stream",
          "name": "stdout",
          "text": [
            "beach\n",
            "                           beach\n",
            "                           beach\n",
            "beach###########################\n"
          ]
        }
      ]
    },
    {
      "cell_type": "code",
      "metadata": {
        "colab": {
          "base_uri": "https://localhost:8080/"
        },
        "id": "JtddVSj1P8Ff",
        "outputId": "9f5eee47-7dd1-41b4-8397-e2ab48e1362a"
      },
      "source": [
        "# Check if text is printable\n",
        "\n",
        "text = '' # notice this is an empty string, there is no white space here\n",
        "print(text.isprintable())\n",
        "\n",
        "text = 'This is a regular text'\n",
        "print(text.isprintable())\n",
        "\n",
        "text = ' ' #one space\n",
        "print(text.isprintable())\n",
        "\n",
        "text = '                        '  #many spaces\n",
        "print(text.isprintable())\n",
        "\n",
        "text = '\\f\\n\\r\\t\\v'   # form feed \\f, line feed \\n, carriage return \\r, tab \\t, vertical tab \\b\n",
        "print(text.isprintable())"
      ],
      "execution_count": 36,
      "outputs": [
        {
          "output_type": "stream",
          "name": "stdout",
          "text": [
            "True\n",
            "True\n",
            "True\n",
            "True\n",
            "False\n"
          ]
        }
      ]
    },
    {
      "cell_type": "code",
      "metadata": {
        "colab": {
          "base_uri": "https://localhost:8080/"
        },
        "id": "ZeLzCKL6ZZ9o",
        "outputId": "9cf82669-f076-4892-e386-0a4806a16149"
      },
      "source": [
        "# check if text is of whitespaces\n",
        "\n",
        "text = ' '\n",
        "print(text.isspace())\n",
        "\n",
        "text = ' \\f\\n\\r\\t\\v'\n",
        "print(text.isspace())\n",
        "\n",
        "text = '                        '\n",
        "print(text.isspace())\n",
        "\n",
        "text = '' # notice this is an empty string, there is no white space here\n",
        "print(text.isspace())\n",
        "\n",
        "text = 'This is a regular text'\n",
        "print(text.isspace())"
      ],
      "execution_count": 37,
      "outputs": [
        {
          "output_type": "stream",
          "name": "stdout",
          "text": [
            "True\n",
            "True\n",
            "True\n",
            "False\n",
            "False\n"
          ]
        }
      ]
    },
    {
      "cell_type": "code",
      "metadata": {
        "colab": {
          "base_uri": "https://localhost:8080/"
        },
        "id": "mcqb0-9ZZ86F",
        "outputId": "81785f2b-1841-4739-8fb9-9700af1c4b76"
      },
      "source": [
        "# Check if starts with definite symbols\n",
        "\n",
        "phrase = \"This is a regular text\"\n",
        "phrase2 = \"This is a new text\"\n",
        "print(phrase.startswith('this'))\n",
        "print(phrase.startswith('This'))\n",
        "print(phrase.startswith('regular', 10)) #the word regular starts at position 10 of the phrase\n",
        "print(phrase.startswith('regular', 10, 22)) #look for in 'regular text'\n",
        "print(phrase.startswith('regular', 10, 15)) ##look for in 'regul'\n"
      ],
      "execution_count": 40,
      "outputs": [
        {
          "output_type": "stream",
          "name": "stdout",
          "text": [
            "False\n",
            "True\n",
            "True\n",
            "True\n",
            "False\n"
          ]
        }
      ]
    },
    {
      "cell_type": "code",
      "metadata": {
        "colab": {
          "base_uri": "https://localhost:8080/"
        },
        "id": "oYvHIvk7bcZI",
        "outputId": "7eac48af-6c6b-4df9-90c0-865ae1321ee1"
      },
      "source": [
        "# how to capitalize onle the first letter\n",
        "text = 'this is a regular text'\n",
        "print(text.capitalize())\n",
        "\n",
        "text = 'THIS IS A REGULAR TEXT'\n",
        "print(text.capitalize())\n",
        "\n",
        "text = 'THIS $ 1S @ A R3GULAR TEXT!'\n",
        "print(text.capitalize())\n",
        "\n",
        "text = '3THIS $ 1S @ A R3GULAR TEXT!'\n",
        "print(text.capitalize())"
      ],
      "execution_count": 42,
      "outputs": [
        {
          "output_type": "stream",
          "name": "stdout",
          "text": [
            "This is a regular text\n",
            "This is a regular text\n",
            "This $ 1s @ a r3gular text!\n",
            "3this $ 1s @ a r3gular text!\n"
          ]
        }
      ]
    },
    {
      "cell_type": "code",
      "metadata": {
        "colab": {
          "base_uri": "https://localhost:8080/"
        },
        "id": "DKXwCVG7cO0W",
        "outputId": "0d1f9e72-5926-4ed1-9d5e-f2d2cf740c96"
      },
      "source": [
        "# Check if text is in upper case - isupper() / islower()\n",
        "\n",
        "text = 'This is a regular text'\n",
        "print(text.isupper())\n",
        "\n",
        "text = 'THIS IS A REGULAR TEXT'\n",
        "print(text.isupper())\n",
        "\n",
        "text = 'THIS $ 1S @ A R3GULAR TEXT!'\n",
        "print(text.isupper())"
      ],
      "execution_count": 43,
      "outputs": [
        {
          "output_type": "stream",
          "name": "stdout",
          "text": [
            "False\n",
            "True\n",
            "True\n"
          ]
        }
      ]
    },
    {
      "cell_type": "code",
      "metadata": {
        "colab": {
          "base_uri": "https://localhost:8080/"
        },
        "id": "H0F7BTA7d2xR",
        "outputId": "b308b66a-d881-435f-8330-fc57310a0d60"
      },
      "source": [
        "# Splitting a string at line breaks\n",
        "\n",
        "my_string = 'world \\n cup'\n",
        "print(my_string.splitlines())\n",
        "\n",
        "my_string = 'world \\n cup'\n",
        "print(my_string.splitlines(True)) # if we want to keep line break - a default value is False"
      ],
      "execution_count": 46,
      "outputs": [
        {
          "output_type": "stream",
          "name": "stdout",
          "text": [
            "['world ', ' cup']\n",
            "['world \\n', ' cup']\n"
          ]
        }
      ]
    },
    {
      "cell_type": "code",
      "metadata": {
        "colab": {
          "base_uri": "https://localhost:8080/"
        },
        "id": "-pulf8zAeiw5",
        "outputId": "ebe64a76-5002-4910-addc-0b1b8bb60d3c"
      },
      "source": [
        "# Check if is numeric symbols in a string\n",
        "\n",
        "# isdecimal() is stricter than isdigit(), which in its turn is stricter than isnumeric().\n",
        "\n",
        "word = '32'\n",
        "print(word.isnumeric())\n",
        "\n",
        "print(\"\\u2083\".isnumeric()) #unicode for subscript 3\n",
        "print(\"\\u2169\".isnumeric()) #unicode for roman numeral X\n",
        "\n",
        "word = 'beach'\n",
        "print(word.isnumeric())\n",
        "\n",
        "word = 'number32'\n",
        "print(word.isnumeric())\n",
        "\n",
        "word = '1 2 3' #notice the space between chars\n",
        "print(word.isnumeric())\n",
        "\n",
        "word = '@32$' #notice the special chars '@' and '$'\n",
        "print(word.isnumeric())\n",
        "\n",
        "# Check if is digit ---------------------------------------------\n",
        "\n",
        "word = '32'\n",
        "print(word.isdigit())\n",
        "\n",
        "print(\"\\u2083\".isdigit()) #unicode for subscript 3\n",
        "\n",
        "word = 'beach'\n",
        "print(word.isdigit())\n",
        "\n",
        "word = 'number32'\n",
        "print(word.isdigit())\n",
        "\n",
        "word = '1 2 3' #notice the space between chars\n",
        "print(word.isdigit())\n",
        "\n",
        "word = '@32$' #notice the special chars '@' and '$'\n",
        "print(word.isdigit())\n",
        "\n",
        "# Check if is decimal ---------------------------------------------\n",
        "\n",
        "word = '32'\n",
        "print(word.isdecimal())\n",
        "\n",
        "word = '954'\n",
        "print(word.isdecimal())\n",
        "\n",
        "print(\"\\u2083\".isdecimal()) #unicode for subscript 3\n",
        "\n",
        "word = 'beach'\n",
        "print(word.isdecimal())\n",
        "\n",
        "word = 'number32'\n",
        "print(word.isdecimal())\n",
        "\n",
        "word = '1 2 3' #notice the space between chars\n",
        "print(word.isdecimal())\n",
        "\n",
        "word = '@32$' #notice the special chars '@' and '$'\n",
        "print(word.isdecimal())"
      ],
      "execution_count": 47,
      "outputs": [
        {
          "output_type": "stream",
          "name": "stdout",
          "text": [
            "True\n",
            "True\n",
            "True\n",
            "False\n",
            "False\n",
            "False\n",
            "False\n"
          ]
        }
      ]
    },
    {
      "cell_type": "code",
      "metadata": {
        "colab": {
          "base_uri": "https://localhost:8080/"
        },
        "id": "PSTuo-a_fNOK",
        "outputId": "98fe55a2-01a1-40e5-db43-b8b4a0b03b7c"
      },
      "source": [
        "# Check if text contains only letters\n",
        "\n",
        "word = 'beach'\n",
        "print(word.isalpha())\n",
        "\n",
        "word = '32'\n",
        "print(word.isalpha())\n",
        "\n",
        "word = 'number32'\n",
        "print(word.isalpha())\n",
        "\n",
        "word = 'Favorite number is blue' #notice the space between words\n",
        "print(word.isalpha())\n",
        "\n",
        "word = '@beach$' #notice the special chars '@' and '$'\n",
        "print(word.isalpha())"
      ],
      "execution_count": 49,
      "outputs": [
        {
          "output_type": "stream",
          "name": "stdout",
          "text": [
            "True\n",
            "False\n",
            "False\n",
            "False\n",
            "False\n"
          ]
        }
      ]
    },
    {
      "cell_type": "code",
      "metadata": {
        "colab": {
          "base_uri": "https://localhost:8080/"
        },
        "id": "-Wy2V8TVf3S0",
        "outputId": "92ef085a-6676-499e-e184-d0bc227354ef"
      },
      "source": [
        "# Check if is title\n",
        "\n",
        "text = 'This is a regular text'\n",
        "print(text.istitle())\n",
        "\n",
        "text = 'This Is A Regular Text'\n",
        "print(text.istitle())\n",
        "\n",
        "text = 'This $ Is @ A Regular 3 Text!'\n",
        "print(text.istitle())"
      ],
      "execution_count": 50,
      "outputs": [
        {
          "output_type": "stream",
          "name": "stdout",
          "text": [
            "False\n",
            "True\n",
            "True\n"
          ]
        }
      ]
    },
    {
      "cell_type": "code",
      "metadata": {
        "colab": {
          "base_uri": "https://localhost:8080/"
        },
        "id": "Un23CnaxgAQn",
        "outputId": "26cee8d2-f022-4b38-99f4-f4796da906b3"
      },
      "source": [
        "# Let us full a string with zeros\n",
        "\n",
        "word = 'beach'\n",
        "size_string = 32\n",
        "\n",
        "word_zeros = word.zfill(size_string)\n",
        "\n",
        "print(word)\n",
        "print(word_zeros)\n",
        "\n",
        "word = 'beach'\n",
        "size_string = 4\n",
        "\n",
        "word_zeros = word.zfill(size_string)\n",
        "print(word)\n",
        "print(word_zeros)"
      ],
      "execution_count": 52,
      "outputs": [
        {
          "output_type": "stream",
          "name": "stdout",
          "text": [
            "beach\n",
            "000000000000000000000000000beach\n",
            "beach\n",
            "beach\n"
          ]
        }
      ]
    },
    {
      "cell_type": "code",
      "metadata": {
        "colab": {
          "base_uri": "https://localhost:8080/"
        },
        "id": "KFEte3eMgQfG",
        "outputId": "1bf3304e-d88e-4838-9d6b-2d465665726b"
      },
      "source": [
        "# find a substring\n",
        "\n",
        "phrase = \"This is a regular text\"\n",
        "print(phrase.find('This'))\n",
        "print(phrase.find('regular'))\n",
        "print(phrase.find('text'))\n",
        "\n",
        "phrase = \"This is a regular text\"\n",
        "#look for in 'This is', the rest of the phrase is not included\n",
        "print(phrase.find('This', 0, 7))\n",
        "#look for in 'This is a regular'\n",
        "print(phrase.find('regular', 0, 17))\n",
        "#look for in 'This is a regul'\n",
        "print(phrase.find('a', 0, 15))"
      ],
      "execution_count": 54,
      "outputs": [
        {
          "output_type": "stream",
          "name": "stdout",
          "text": [
            "0\n",
            "10\n",
            "18\n",
            "0\n",
            "10\n",
            "8\n"
          ]
        }
      ]
    },
    {
      "cell_type": "code",
      "metadata": {
        "id": "DYnBRdl1hrbY"
      },
      "source": [
        ""
      ],
      "execution_count": null,
      "outputs": []
    }
  ]
}